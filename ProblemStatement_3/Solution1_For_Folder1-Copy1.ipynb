{
 "cells": [
  {
   "cell_type": "code",
   "execution_count": 1,
   "id": "8fa53cc1-2873-4054-aa4a-8893d3f0b490",
   "metadata": {},
   "outputs": [
    {
     "name": "stdout",
     "output_type": "stream",
     "text": [
      "Hi\n"
     ]
    }
   ],
   "source": [
    "print(\"Hi\")"
   ]
  },
  {
   "cell_type": "code",
   "execution_count": 2,
   "id": "e408a84b-bbbb-4052-afa7-f759598865ad",
   "metadata": {},
   "outputs": [],
   "source": [
    "# Program to convert an xml\n",
    "# file to json file\n",
    "\n",
    "# import json module and xmltodict\n",
    "# module provided by python\n",
    "import json\n",
    "import xmltodict"
   ]
  },
  {
   "cell_type": "code",
   "execution_count": 3,
   "id": "eb9f5e39-a611-49fc-aa68-26ec6e61035b",
   "metadata": {},
   "outputs": [],
   "source": [
    "# open the input xml file and read\n",
    "# data in form of python dictionary\n",
    "# using xmltodict module\n",
    "import os\n",
    "notebook_path = os.path.abspath(\"Solution1_For_Folder1.ipynb\")\n",
    "train_csv = os.path.join(os.path.dirname(notebook_path), \"wf_src_idw_cntry_multi_def_cd.xml\")\n",
    "with open(train_csv) as xml_file:\n",
    "\t\n",
    "\tdata_dict = xmltodict.parse(xml_file.read())\n",
    "\txml_file.close()\n",
    "\t\n",
    "\t# generate the object using json.dumps()\n",
    "\t# corresponding to json data\n",
    "\t\n",
    "\tjson_data = json.dumps(data_dict)\n",
    "\t\n",
    "\t# Write the json data to output\n",
    "\t# json file\n",
    "\twith open(\"data.json\", \"w\") as json_file:\n",
    "\t\tjson_file.write(json_data)\n",
    "\t\tjson_file.close()\n"
   ]
  },
  {
   "cell_type": "code",
   "execution_count": 4,
   "id": "3b4580b5-249c-44ab-8358-076233d0ea04",
   "metadata": {},
   "outputs": [],
   "source": [
    "# Opening JSON file\n",
    "f = open('data.json')\n",
    "  \n",
    "# returns JSON object as \n",
    "# a dictionary\n",
    "data = json.load(f)"
   ]
  },
  {
   "cell_type": "code",
   "execution_count": 5,
   "id": "c5570737-5ef2-4005-81a3-5f3274ffa797",
   "metadata": {},
   "outputs": [],
   "source": [
    "dataFolder1=data['POWERMART']['REPOSITORY']['FOLDER'][1]\n"
   ]
  },
  {
   "cell_type": "code",
   "execution_count": 6,
   "id": "8ca432c4-5688-4c5c-8a03-67ae09bc9d6a",
   "metadata": {},
   "outputs": [],
   "source": [
    "#save 2nd folder from json in separate file\n",
    "json_dataFolder1 = json.dumps(dataFolder1)\n",
    "with open(\"dataFolder1.json\", \"w\") as json_file:\n",
    "\t\tjson_file.write(json_dataFolder1)\n",
    "\t\tjson_file.close()\n"
   ]
  },
  {
   "cell_type": "code",
   "execution_count": 7,
   "id": "fb5a399b-875e-43ae-b0a9-3980c7eb83fd",
   "metadata": {},
   "outputs": [
    {
     "data": {
      "text/plain": [
       "'IDW_ETL_LOAD_IDW.CNTRY_MULTI_DEF_CD_T.SWB_CNTRY_ID'"
      ]
     },
     "execution_count": 7,
     "metadata": {},
     "output_type": "execute_result"
    }
   ],
   "source": [
    "#check mapping using hardcoded way for right now ->\n",
    "sourceField1 = dataFolder1['SOURCE'][0]['@DBDNAME'] + '.' + dataFolder1['SOURCE'][0]['@NAME'] + '.' +  dataFolder1['SOURCE'][0]['SOURCEFIELD'][0]['@NAME']\n",
    "sourceField1"
   ]
  },
  {
   "cell_type": "code",
   "execution_count": 8,
   "id": "f0f2336c-c16b-4149-992e-d3680e8270d9",
   "metadata": {},
   "outputs": [
    {
     "data": {
      "text/plain": [
       "'CNTRY_MULTI_DEF_CD_T.CNTRY_MULTI_DEF_CD_T.SWB_CNTRY_ID'"
      ]
     },
     "execution_count": 8,
     "metadata": {},
     "output_type": "execute_result"
    }
   ],
   "source": [
    "#check mapping using hardcoded way for right now ->\n",
    "TARGETField1 = dataFolder1['TARGET'][0]['@NAME'] + '.' + dataFolder1['TARGET'][0]['@NAME'] + '.' +  dataFolder1['TARGET'][0]['TARGETFIELD'][0]['@NAME']\n",
    "TARGETField1"
   ]
  },
  {
   "cell_type": "code",
   "execution_count": 9,
   "id": "8c573c0e-6a6c-4f42-bf52-71e8471861cd",
   "metadata": {},
   "outputs": [
    {
     "name": "stdout",
     "output_type": "stream",
     "text": [
      "Source(IDW_ETL_LOAD_IDW.CNTRY_MULTI_DEF_CD_T.SWB_CNTRY_ID)-->Target(CNTRY_MULTI_DEF_CD_T.CNTRY_MULTI_DEF_CD_T.SWB_CNTRY_ID)\n"
     ]
    }
   ],
   "source": [
    "print(\"Source(\" + sourceField1 + \")\" + \"-->\" \"Target(\" + TARGETField1 + \")\")"
   ]
  },
  {
   "cell_type": "code",
   "execution_count": 16,
   "id": "2bf8becb-6bb7-46fa-9b33-97c095ae05f0",
   "metadata": {},
   "outputs": [
    {
     "name": "stdout",
     "output_type": "stream",
     "text": [
      "0\n",
      "Source(IDW_ETL_LOAD_IDW.CNTRY_MULTI_DEF_CD_T.SWB_CNTRY_ID)-->Target(CNTRY_MULTI_DEF_CD_T.CNTRY_MULTI_DEF_CD_T.SWB_CNTRY_ID)\n",
      "1\n",
      "Source(IDW_ETL_LOAD_IDW.CNTRY_MULTI_DEF_CD_T.CNTRY_TYPE_CD)-->Target(CNTRY_MULTI_DEF_CD_T.CNTRY_MULTI_DEF_CD_T.CNTRY_TYPE_CD)\n",
      "2\n",
      "Source(IDW_ETL_LOAD_IDW.CNTRY_MULTI_DEF_CD_T.DW_EFF_DT)-->Target(CNTRY_MULTI_DEF_CD_T.CNTRY_MULTI_DEF_CD_T.DW_EFF_DT)\n",
      "3\n",
      "Source(IDW_ETL_LOAD_IDW.CNTRY_MULTI_DEF_CD_T.DW_EXPR_DT)-->Target(CNTRY_MULTI_DEF_CD_T.CNTRY_MULTI_DEF_CD_T.DW_EXPR_DT)\n",
      "4\n",
      "Source(IDW_ETL_LOAD_IDW.CNTRY_MULTI_DEF_CD_T.CURR_IN)-->Target(CNTRY_MULTI_DEF_CD_T.CNTRY_MULTI_DEF_CD_T.CURR_IN)\n",
      "5\n",
      "Source(IDW_ETL_LOAD_IDW.CNTRY_MULTI_DEF_CD_T.RCV_IN)-->Target(CNTRY_MULTI_DEF_CD_T.CNTRY_MULTI_DEF_CD_T.RCV_IN)\n",
      "6\n",
      "Source(IDW_ETL_LOAD_IDW.CNTRY_MULTI_DEF_CD_T.CNTRY_CD)-->Target(CNTRY_MULTI_DEF_CD_T.CNTRY_MULTI_DEF_CD_T.CNTRY_CD)\n",
      "7\n",
      "Source(IDW_ETL_LOAD_IDW.CNTRY_MULTI_DEF_CD_T.CNTRY_NM)-->Target(CNTRY_MULTI_DEF_CD_T.CNTRY_MULTI_DEF_CD_T.CNTRY_NM)\n",
      "8\n",
      "Source(IDW_ETL_LOAD_IDW.CNTRY_MULTI_DEF_CD_T.CNTRY_TYPE_VALID_IN)-->Target(CNTRY_MULTI_DEF_CD_T.CNTRY_MULTI_DEF_CD_T.CNTRY_TYPE_VALID_IN)\n",
      "9\n",
      "Source(IDW_ETL_LOAD_IDW.CNTRY_MULTI_DEF_CD_T.AUDIT_UPDT_USER_ID)-->Target(CNTRY_MULTI_DEF_CD_T.CNTRY_MULTI_DEF_CD_T.AUDIT_UPDT_USER_ID)\n",
      "10\n",
      "Source(IDW_ETL_LOAD_IDW.CNTRY_MULTI_DEF_CD_T.AUDIT_UPDT_TS)-->Target(CNTRY_MULTI_DEF_CD_T.CNTRY_MULTI_DEF_CD_T.AUDIT_UPDT_TS)\n",
      "11\n",
      "Source(IDW_ETL_LOAD_IDW.CNTRY_MULTI_DEF_CD_T.DW_LOAD_TS)-->Target(CNTRY_MULTI_DEF_CD_T.CNTRY_MULTI_DEF_CD_T.DW_LOAD_TS)\n"
     ]
    }
   ],
   "source": [
    "for i in range(12):\n",
    "    print(i)\n",
    "    sourceField1 = dataFolder1['SOURCE'][0]['@DBDNAME'] + '.' + dataFolder1['SOURCE'][0]['@NAME'] + '.' +  dataFolder1['SOURCE'][0]['SOURCEFIELD'][i]['@NAME']\n",
    "    TARGETField1 = dataFolder1['TARGET'][0]['@NAME'] + '.' + dataFolder1['TARGET'][0]['@NAME'] + '.' +  dataFolder1['TARGET'][0]['TARGETFIELD'][i]['@NAME']\n",
    "    print(\"Source(\" + sourceField1 + \")\" + \"-->\" \"Target(\" + TARGETField1 + \")\")"
   ]
  },
  {
   "cell_type": "code",
   "execution_count": 17,
   "id": "61fbc12d-6082-4f80-a0fa-5093f65f7e2d",
   "metadata": {},
   "outputs": [
    {
     "name": "stdout",
     "output_type": "stream",
     "text": [
      "0\n",
      "Source(IDW_ETL_LOAD_STG.CNTRY_MULTI_DEF_CD_S.SWB_CNTRY_ID)-->Target(CNTRY_MULTI_DEF_CD_S.CNTRY_MULTI_DEF_CD_S.SWB_CNTRY_ID)\n",
      "1\n",
      "Source(IDW_ETL_LOAD_STG.CNTRY_MULTI_DEF_CD_S.CNTRY_SCHEME_CD)-->Target(CNTRY_MULTI_DEF_CD_S.CNTRY_MULTI_DEF_CD_S.CNTRY_SCHEME_CD)\n",
      "2\n",
      "Source(IDW_ETL_LOAD_STG.CNTRY_MULTI_DEF_CD_S.DW_AS_OF_DT)-->Target(CNTRY_MULTI_DEF_CD_S.CNTRY_MULTI_DEF_CD_S.DW_AS_OF_DT)\n",
      "3\n",
      "Source(IDW_ETL_LOAD_STG.CNTRY_MULTI_DEF_CD_S.DW_ACTN_IND)-->Target(CNTRY_MULTI_DEF_CD_S.CNTRY_MULTI_DEF_CD_S.DW_ACTN_IND)\n",
      "4\n",
      "Source(IDW_ETL_LOAD_STG.CNTRY_MULTI_DEF_CD_S.CNTRY_CD)-->Target(CNTRY_MULTI_DEF_CD_S.CNTRY_MULTI_DEF_CD_S.CNTRY_CD)\n",
      "5\n",
      "Source(IDW_ETL_LOAD_STG.CNTRY_MULTI_DEF_CD_S.CNTRY_NM)-->Target(CNTRY_MULTI_DEF_CD_S.CNTRY_MULTI_DEF_CD_S.CNTRY_NM)\n",
      "6\n",
      "Source(IDW_ETL_LOAD_STG.CNTRY_MULTI_DEF_CD_S.CNTRY_SCHM_VALD_IN)-->Target(CNTRY_MULTI_DEF_CD_S.CNTRY_MULTI_DEF_CD_S.CNTRY_SCHM_VALD_IN)\n",
      "7\n",
      "Source(IDW_ETL_LOAD_STG.CNTRY_MULTI_DEF_CD_S.AUDIT_UPDT_USER_ID)-->Target(CNTRY_MULTI_DEF_CD_S.CNTRY_MULTI_DEF_CD_S.AUDIT_UPDT_USER_ID)\n",
      "8\n",
      "Source(IDW_ETL_LOAD_STG.CNTRY_MULTI_DEF_CD_S.AUDIT_UPDT_TS)-->Target(CNTRY_MULTI_DEF_CD_S.CNTRY_MULTI_DEF_CD_S.AUDIT_UPDT_TS)\n"
     ]
    }
   ],
   "source": [
    "for i in range(9):\n",
    "    print(i)\n",
    "    sourceField1 = dataFolder1['SOURCE'][1]['@DBDNAME'] + '.' + dataFolder1['SOURCE'][1]['@NAME'] + '.' +  dataFolder1['SOURCE'][1]['SOURCEFIELD'][i]['@NAME']\n",
    "    TARGETField1 = dataFolder1['TARGET'][1]['@NAME'] + '.' + dataFolder1['TARGET'][1]['@NAME'] + '.' +  dataFolder1['TARGET'][1]['TARGETFIELD'][i]['@NAME']\n",
    "    print(\"Source(\" + sourceField1 + \")\" + \"-->\" \"Target(\" + TARGETField1 + \")\")"
   ]
  },
  {
   "cell_type": "code",
   "execution_count": 29,
   "id": "1ce279f9-9dbc-4900-9dbe-283923a8908f",
   "metadata": {},
   "outputs": [
    {
     "data": {
      "text/plain": [
       "'SWB_CNTRY_ID'"
      ]
     },
     "execution_count": 29,
     "metadata": {},
     "output_type": "execute_result"
    }
   ],
   "source": []
  }
 ],
 "metadata": {
  "kernelspec": {
   "display_name": "Python 3 (ipykernel)",
   "language": "python",
   "name": "python3"
  },
  "language_info": {
   "codemirror_mode": {
    "name": "ipython",
    "version": 3
   },
   "file_extension": ".py",
   "mimetype": "text/x-python",
   "name": "python",
   "nbconvert_exporter": "python",
   "pygments_lexer": "ipython3",
   "version": "3.9.7"
  }
 },
 "nbformat": 4,
 "nbformat_minor": 5
}
