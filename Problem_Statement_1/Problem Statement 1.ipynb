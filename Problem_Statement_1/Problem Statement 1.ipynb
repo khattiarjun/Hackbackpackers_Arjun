{
 "cells": [
  {
   "cell_type": "code",
   "execution_count": 46,
   "id": "f36c004e-beb8-46cc-a6e4-0f6f4653db59",
   "metadata": {},
   "outputs": [
    {
     "name": "stdout",
     "output_type": "stream",
     "text": [
      "Requirement already satisfied: sqlparse in c:\\users\\arjun\\anaconda3\\lib\\site-packages (0.4.2)\n",
      "Note: you may need to restart the kernel to use updated packages.\n"
     ]
    }
   ],
   "source": [
    "pip install sqlparse"
   ]
  },
  {
   "cell_type": "code",
   "execution_count": 47,
   "id": "2405e5f8-b459-400b-a581-da50cf9c7008",
   "metadata": {},
   "outputs": [],
   "source": [
    "query=\"\"\"SELECT\n",
    "  a.first_name,\n",
    "  a.last_name,\n",
    "  s.sales_amount\n",
    "FROM artists a\n",
    "JOIN (\n",
    "    SELECT artist_id, SUM(sales_price) AS sales\n",
    "    FROM sales s\n",
    "    GROUP BY artist_id\n",
    "  ) AS artist_sales \n",
    "  ON artists.id = artist_sales.artist_id;\"\"\""
   ]
  },
  {
   "cell_type": "code",
   "execution_count": 48,
   "id": "63a20ebe-282b-4e6c-a29d-b1f2d26a56f1",
   "metadata": {},
   "outputs": [],
   "source": [
    "import sqlparse\n",
    "def find_selected_columns(query) -> list[str]:\n",
    "    tokens = sqlparse.parse(query)[0].tokens\n",
    "    found_select = False\n",
    "    for token in tokens:\n",
    "        if found_select:\n",
    "            if isinstance(token, sqlparse.sql.IdentifierList):\n",
    "                return [\n",
    "                    col.value.split(\" \")[-1].strip(\"`\").rpartition('.')[-1]\n",
    "                    for col in token.tokens\n",
    "                    if isinstance(col, sqlparse.sql.Identifier)\n",
    "                ]\n",
    "        else:\n",
    "            found_select = token.match(sqlparse.tokens.Keyword.DML, [\"select\", \"SELECT\"])\n",
    "    raise Exception(\"Could not find a select statement. Weired query :)\")"
   ]
  },
  {
   "cell_type": "code",
   "execution_count": 49,
   "id": "9d9ca724-b367-497b-8a13-fc5ca3fbe23f",
   "metadata": {},
   "outputs": [],
   "source": [
    "import sqlparse\n",
    "def find_selected_alias(query) -> list[str]:\n",
    "    tokens = sqlparse.parse(query)[0].tokens\n",
    "    found_select = False\n",
    "    for token in tokens:\n",
    "        if found_select:\n",
    "            if isinstance(token, sqlparse.sql.IdentifierList):\n",
    "                return [\n",
    "                    col.value.split(\" \")[-1].strip(\"`\").rpartition('.')[0]\n",
    "                    for col in token.tokens\n",
    "                    if isinstance(col, sqlparse.sql.Identifier)\n",
    "                ]\n",
    "        else:\n",
    "            found_select = token.match(sqlparse.tokens.Keyword.DML, [\"select\", \"SELECT\"])\n",
    "    raise Exception(\"Could not find a select statement. Weired query :)\")"
   ]
  },
  {
   "cell_type": "code",
   "execution_count": 50,
   "id": "9b60c165-66e5-4a02-97c5-d936a99a419a",
   "metadata": {},
   "outputs": [
    {
     "data": {
      "text/plain": [
       "['a', 'a', 's']"
      ]
     },
     "execution_count": 50,
     "metadata": {},
     "output_type": "execute_result"
    }
   ],
   "source": [
    "alias=find_selected_alias(query)\n",
    "alias"
   ]
  },
  {
   "cell_type": "code",
   "execution_count": 51,
   "id": "4bbf77dd-6540-495a-821b-0516291bec7a",
   "metadata": {},
   "outputs": [
    {
     "data": {
      "text/plain": [
       "['first_name', 'last_name', 'sales_amount']"
      ]
     },
     "execution_count": 51,
     "metadata": {},
     "output_type": "execute_result"
    }
   ],
   "source": [
    "columns=find_selected_columns(query)\n",
    "columns\n"
   ]
  },
  {
   "cell_type": "code",
   "execution_count": 52,
   "id": "3b50c67c-9c8f-46a8-81ff-096a9376c5c6",
   "metadata": {},
   "outputs": [
    {
     "name": "stdout",
     "output_type": "stream",
     "text": [
      "[{'table': 'artists', 'alias': 'a'}, {'table': 'sales', 'alias': 's'}]\n"
     ]
    }
   ],
   "source": [
    "import sqlparse, re\n",
    "def get_tables(d):\n",
    "    f = False\n",
    "    for i in getattr(d, 'tokens', []):\n",
    "       if isinstance(i, sqlparse.sql.Token) and i.value.lower() == 'from':\n",
    "          f = True\n",
    "       elif isinstance(i, (sqlparse.sql.Identifier, sqlparse.sql.IdentifierList)) and f:\n",
    "          f = False\n",
    "          if not any(isinstance(x, sqlparse.sql.Parenthesis) or 'select' in x.value.lower() for x in getattr(i, 'tokens', [])):\n",
    "             fr = ''.join(str(j) for j in i if j.value not in {'as', '\\n'})\n",
    "             for t in re.findall('(?:\\w+\\.\\w+|\\w+)\\s+\\w+|(?:\\w+\\.\\w+|\\w+)', fr):\n",
    "                yield {'table':(t1:=t.split())[0], 'alias':None if len(t1) < 2 else t1[-1]}\n",
    "       yield from get_tables(i)\n",
    "    \n",
    "lookup1= list(get_tables(sqlparse.parse(query)[0]))\n",
    "\n",
    "print(lookup1)"
   ]
  },
  {
   "cell_type": "code",
   "execution_count": 53,
   "id": "188386dc-b3f7-40a5-a868-811d4a82084f",
   "metadata": {},
   "outputs": [],
   "source": [
    "import pandas as pd\n",
    "df = pd.DataFrame(lookup1)"
   ]
  },
  {
   "cell_type": "code",
   "execution_count": 54,
   "id": "49d9a15d-77fc-4106-9136-b66491e9835f",
   "metadata": {},
   "outputs": [
    {
     "data": {
      "text/html": [
       "<div>\n",
       "<style scoped>\n",
       "    .dataframe tbody tr th:only-of-type {\n",
       "        vertical-align: middle;\n",
       "    }\n",
       "\n",
       "    .dataframe tbody tr th {\n",
       "        vertical-align: top;\n",
       "    }\n",
       "\n",
       "    .dataframe thead th {\n",
       "        text-align: right;\n",
       "    }\n",
       "</style>\n",
       "<table border=\"1\" class=\"dataframe\">\n",
       "  <thead>\n",
       "    <tr style=\"text-align: right;\">\n",
       "      <th></th>\n",
       "      <th>table</th>\n",
       "      <th>alias</th>\n",
       "    </tr>\n",
       "  </thead>\n",
       "  <tbody>\n",
       "    <tr>\n",
       "      <th>0</th>\n",
       "      <td>artists</td>\n",
       "      <td>a</td>\n",
       "    </tr>\n",
       "    <tr>\n",
       "      <th>1</th>\n",
       "      <td>sales</td>\n",
       "      <td>s</td>\n",
       "    </tr>\n",
       "  </tbody>\n",
       "</table>\n",
       "</div>"
      ],
      "text/plain": [
       "     table alias\n",
       "0  artists     a\n",
       "1    sales     s"
      ]
     },
     "execution_count": 54,
     "metadata": {},
     "output_type": "execute_result"
    }
   ],
   "source": [
    "df"
   ]
  },
  {
   "cell_type": "code",
   "execution_count": 55,
   "id": "9b3ac55f-473b-47d4-abed-1874cc83f9d7",
   "metadata": {},
   "outputs": [],
   "source": [
    "df_final = pd.DataFrame(\n",
    "    {'Output_columns': columns,\n",
    "     'alias': alias\n",
    "    })"
   ]
  },
  {
   "cell_type": "code",
   "execution_count": 56,
   "id": "de121c05-94f6-4178-895a-66baf70d1d6a",
   "metadata": {},
   "outputs": [
    {
     "data": {
      "text/html": [
       "<div>\n",
       "<style scoped>\n",
       "    .dataframe tbody tr th:only-of-type {\n",
       "        vertical-align: middle;\n",
       "    }\n",
       "\n",
       "    .dataframe tbody tr th {\n",
       "        vertical-align: top;\n",
       "    }\n",
       "\n",
       "    .dataframe thead th {\n",
       "        text-align: right;\n",
       "    }\n",
       "</style>\n",
       "<table border=\"1\" class=\"dataframe\">\n",
       "  <thead>\n",
       "    <tr style=\"text-align: right;\">\n",
       "      <th></th>\n",
       "      <th>Output_columns</th>\n",
       "      <th>alias</th>\n",
       "    </tr>\n",
       "  </thead>\n",
       "  <tbody>\n",
       "    <tr>\n",
       "      <th>0</th>\n",
       "      <td>first_name</td>\n",
       "      <td>a</td>\n",
       "    </tr>\n",
       "    <tr>\n",
       "      <th>1</th>\n",
       "      <td>last_name</td>\n",
       "      <td>a</td>\n",
       "    </tr>\n",
       "    <tr>\n",
       "      <th>2</th>\n",
       "      <td>sales_amount</td>\n",
       "      <td>s</td>\n",
       "    </tr>\n",
       "  </tbody>\n",
       "</table>\n",
       "</div>"
      ],
      "text/plain": [
       "  Output_columns alias\n",
       "0     first_name     a\n",
       "1      last_name     a\n",
       "2   sales_amount     s"
      ]
     },
     "execution_count": 56,
     "metadata": {},
     "output_type": "execute_result"
    }
   ],
   "source": [
    "df_final"
   ]
  },
  {
   "cell_type": "code",
   "execution_count": 57,
   "id": "3c2e27be-c465-4a9c-a964-81eb7aa3188f",
   "metadata": {},
   "outputs": [],
   "source": [
    "df_final2 = pd.merge(df_final, \n",
    "                      df, \n",
    "                      on ='alias', \n",
    "                      how ='inner')"
   ]
  },
  {
   "cell_type": "code",
   "execution_count": 58,
   "id": "45e8328f-0fb6-45c5-9b63-b5d69a734333",
   "metadata": {},
   "outputs": [
    {
     "data": {
      "text/html": [
       "<div>\n",
       "<style scoped>\n",
       "    .dataframe tbody tr th:only-of-type {\n",
       "        vertical-align: middle;\n",
       "    }\n",
       "\n",
       "    .dataframe tbody tr th {\n",
       "        vertical-align: top;\n",
       "    }\n",
       "\n",
       "    .dataframe thead th {\n",
       "        text-align: right;\n",
       "    }\n",
       "</style>\n",
       "<table border=\"1\" class=\"dataframe\">\n",
       "  <thead>\n",
       "    <tr style=\"text-align: right;\">\n",
       "      <th></th>\n",
       "      <th>Output_columns</th>\n",
       "      <th>alias</th>\n",
       "      <th>table</th>\n",
       "    </tr>\n",
       "  </thead>\n",
       "  <tbody>\n",
       "    <tr>\n",
       "      <th>0</th>\n",
       "      <td>first_name</td>\n",
       "      <td>a</td>\n",
       "      <td>artists</td>\n",
       "    </tr>\n",
       "    <tr>\n",
       "      <th>1</th>\n",
       "      <td>last_name</td>\n",
       "      <td>a</td>\n",
       "      <td>artists</td>\n",
       "    </tr>\n",
       "    <tr>\n",
       "      <th>2</th>\n",
       "      <td>sales_amount</td>\n",
       "      <td>s</td>\n",
       "      <td>sales</td>\n",
       "    </tr>\n",
       "  </tbody>\n",
       "</table>\n",
       "</div>"
      ],
      "text/plain": [
       "  Output_columns alias    table\n",
       "0     first_name     a  artists\n",
       "1      last_name     a  artists\n",
       "2   sales_amount     s    sales"
      ]
     },
     "execution_count": 58,
     "metadata": {},
     "output_type": "execute_result"
    }
   ],
   "source": [
    "df_final2"
   ]
  },
  {
   "cell_type": "code",
   "execution_count": 59,
   "id": "673e23e5-a899-4fc7-b41d-c1b6ab6b6d69",
   "metadata": {},
   "outputs": [
    {
     "data": {
      "text/html": [
       "<div>\n",
       "<style scoped>\n",
       "    .dataframe tbody tr th:only-of-type {\n",
       "        vertical-align: middle;\n",
       "    }\n",
       "\n",
       "    .dataframe tbody tr th {\n",
       "        vertical-align: top;\n",
       "    }\n",
       "\n",
       "    .dataframe thead th {\n",
       "        text-align: right;\n",
       "    }\n",
       "</style>\n",
       "<table border=\"1\" class=\"dataframe\">\n",
       "  <thead>\n",
       "    <tr style=\"text-align: right;\">\n",
       "      <th></th>\n",
       "      <th>Output_columns</th>\n",
       "      <th>table</th>\n",
       "    </tr>\n",
       "  </thead>\n",
       "  <tbody>\n",
       "    <tr>\n",
       "      <th>0</th>\n",
       "      <td>first_name</td>\n",
       "      <td>artists</td>\n",
       "    </tr>\n",
       "    <tr>\n",
       "      <th>1</th>\n",
       "      <td>last_name</td>\n",
       "      <td>artists</td>\n",
       "    </tr>\n",
       "    <tr>\n",
       "      <th>2</th>\n",
       "      <td>sales_amount</td>\n",
       "      <td>sales</td>\n",
       "    </tr>\n",
       "  </tbody>\n",
       "</table>\n",
       "</div>"
      ],
      "text/plain": [
       "  Output_columns    table\n",
       "0     first_name  artists\n",
       "1      last_name  artists\n",
       "2   sales_amount    sales"
      ]
     },
     "execution_count": 59,
     "metadata": {},
     "output_type": "execute_result"
    }
   ],
   "source": [
    "df_final3 = df_final2[['Output_columns', 'table']]\n",
    "df_final3"
   ]
  },
  {
   "cell_type": "code",
   "execution_count": null,
   "id": "be619961-0c78-4500-b3ce-a0f967f9bb34",
   "metadata": {},
   "outputs": [],
   "source": []
  }
 ],
 "metadata": {
  "kernelspec": {
   "display_name": "Python 3 (ipykernel)",
   "language": "python",
   "name": "python3"
  },
  "language_info": {
   "codemirror_mode": {
    "name": "ipython",
    "version": 3
   },
   "file_extension": ".py",
   "mimetype": "text/x-python",
   "name": "python",
   "nbconvert_exporter": "python",
   "pygments_lexer": "ipython3",
   "version": "3.9.7"
  }
 },
 "nbformat": 4,
 "nbformat_minor": 5
}
